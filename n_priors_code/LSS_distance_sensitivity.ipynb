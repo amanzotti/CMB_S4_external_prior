{
 "cells": [
  {
   "cell_type": "markdown",
   "metadata": {},
   "source": [
    "###Define the function of distance to last scattering:"
   ]
  },
  {
   "cell_type": "code",
   "execution_count": 2,
   "metadata": {
    "collapsed": false
   },
   "outputs": [],
   "source": [
    "\n",
    "def H_over_h0(z, ombh2, omh2, w, h0):\n",
    "    om = (omh2 + ombh2) / h0**2\n",
    "    om_rad = 5.46 * 10**-5\n",
    "    return np.sqrt((om) * (1 + z)**3 + om_rad** (1 + z)**4 + (1 - om) * (1 + z)**(3. * (1. + w)))\n",
    "\n",
    "\n",
    "def Da(z, ombh2, omh2, w, h0):\n",
    "    '''comoving distance'''\n",
    "    from scipy.integrate import quad\n",
    "    def integrand(z, ombh2, omh2, w, h0):\n",
    "        return (3000 / h0) / (H_over_h0(z, ombh2, omh2, w, h0))\n",
    "    return quad(integrand, 0, 1090, args=(ombh2, omh2, w, h0), epsrel=1.49e-11)[0]"
   ]
  },
  {
   "cell_type": "markdown",
   "metadata": {},
   "source": [
    "####Derivative are taken with scipy"
   ]
  },
  {
   "cell_type": "code",
   "execution_count": 3,
   "metadata": {
    "collapsed": true
   },
   "outputs": [],
   "source": [
    "from scipy.misc import derivative"
   ]
  },
  {
   "cell_type": "markdown",
   "metadata": {},
   "source": [
    "####Trick to do partial derivatives."
   ]
  },
  {
   "cell_type": "code",
   "execution_count": 4,
   "metadata": {
    "collapsed": true
   },
   "outputs": [],
   "source": [
    "step = 0.05\n",
    "def partial_derivative(func, var=0, point=[]):\n",
    "    args = point[:]\n",
    "    def wraps(x):\n",
    "        args[var] = x\n",
    "        return func(*args)\n",
    "    return derivative(wraps, point[var], dx = point[var]*step,order=7 )"
   ]
  },
  {
   "cell_type": "code",
   "execution_count": 5,
   "metadata": {
    "collapsed": false
   },
   "outputs": [],
   "source": [
    "args = [1100,0.022068,0.12029,-1,0.67]\n",
    "sigma_args = [0,0.1,0.4,9,3.8]"
   ]
  },
  {
   "cell_type": "markdown",
   "metadata": {},
   "source": [
    "## Results"
   ]
  },
  {
   "cell_type": "code",
   "execution_count": 6,
   "metadata": {
    "collapsed": false
   },
   "outputs": [
    {
     "data": {
      "text/plain": [
       "-39674.271476901733"
      ]
     },
     "execution_count": 6,
     "metadata": {},
     "output_type": "execute_result"
    }
   ],
   "source": [
    "partial_derivative(Da, 1, args)"
   ]
  },
  {
   "cell_type": "code",
   "execution_count": 7,
   "metadata": {
    "collapsed": false
   },
   "outputs": [
    {
     "data": {
      "text/plain": [
       "-39674.274030200788"
      ]
     },
     "execution_count": 7,
     "metadata": {},
     "output_type": "execute_result"
    }
   ],
   "source": [
    "partial_derivative(Da, 2, args)"
   ]
  },
  {
   "cell_type": "code",
   "execution_count": 8,
   "metadata": {
    "collapsed": false
   },
   "outputs": [
    {
     "data": {
      "text/plain": [
       "-1178.93597043969"
      ]
     },
     "execution_count": 8,
     "metadata": {},
     "output_type": "execute_result"
    }
   ],
   "source": [
    "partial_derivative(Da, 3, args)"
   ]
  },
  {
   "cell_type": "code",
   "execution_count": 9,
   "metadata": {
    "collapsed": false
   },
   "outputs": [
    {
     "data": {
      "text/plain": [
       "-4016.8171697005159"
      ]
     },
     "execution_count": 9,
     "metadata": {},
     "output_type": "execute_result"
    }
   ],
   "source": [
    "partial_derivative(Da, 4, args)"
   ]
  },
  {
   "cell_type": "markdown",
   "metadata": {},
   "source": [
    "Now $$\\Delta D_{LSS} = -39674 [\\Delta\\Omega_{b}h^{2}/\\Omega_{b}h^{2} ]\\Omega_{b}h^{2} -39674 [\\Delta\\Omega_{c}h^{2}/\\Omega_{c}h^{2} ]\\Omega_{c}h^{2}-1178 [\\Delta w/w ]w-4016[\\Delta H_{0}/H_{0} ]H_{0} $$"
   ]
  },
  {
   "cell_type": "code",
   "execution_count": 10,
   "metadata": {
    "collapsed": false
   },
   "outputs": [
    {
     "data": {
      "text/plain": [
       "-87.553182295226748"
      ]
     },
     "execution_count": 10,
     "metadata": {},
     "output_type": "execute_result"
    }
   ],
   "source": [
    "partial_derivative(Da, 1, args)*sigma_args[1]*args[1]"
   ]
  },
  {
   "cell_type": "code",
   "execution_count": 11,
   "metadata": {
    "collapsed": false
   },
   "outputs": [
    {
     "data": {
      "text/plain": [
       "-1908.9673692371412"
      ]
     },
     "execution_count": 11,
     "metadata": {},
     "output_type": "execute_result"
    }
   ],
   "source": [
    "partial_derivative(Da, 2, args)*sigma_args[2]*args[2]"
   ]
  },
  {
   "cell_type": "code",
   "execution_count": 12,
   "metadata": {
    "collapsed": false
   },
   "outputs": [
    {
     "data": {
      "text/plain": [
       "10610.42373395721"
      ]
     },
     "execution_count": 12,
     "metadata": {},
     "output_type": "execute_result"
    }
   ],
   "source": [
    "partial_derivative(Da, 3, args)*sigma_args[3]*args[3]"
   ]
  },
  {
   "cell_type": "code",
   "execution_count": 13,
   "metadata": {
    "collapsed": false
   },
   "outputs": [
    {
     "data": {
      "text/plain": [
       "-10226.816514057515"
      ]
     },
     "execution_count": 13,
     "metadata": {},
     "output_type": "execute_result"
    }
   ],
   "source": [
    "partial_derivative(Da, 4, args)*sigma_args[4]*args[4]"
   ]
  },
  {
   "cell_type": "markdown",
   "metadata": {},
   "source": [
    "So: $$ \\Delta D_{LSS} = -87 \\times  (\\frac{\\sigma(\\Omega_{b}h^{2})}{0.1 \\%})\\times0.022 -1908 \\times  ( \\frac{\\sigma(\\Omega_{c}h^{2})}{0.4 \\%})\\times0.12 +10610 \\times  (\\frac{\\sigma(w)}{9 \\%})\\times -1 - 10226 \\times  (\\frac{\\sigma(H_{0})}{3.8 \\%})\\times 0.67 $$"
   ]
  },
  {
   "cell_type": "code",
   "execution_count": null,
   "metadata": {
    "collapsed": true
   },
   "outputs": [],
   "source": []
  }
 ],
 "metadata": {
  "kernelspec": {
   "display_name": "Python 2",
   "language": "python",
   "name": "python2"
  },
  "language_info": {
   "codemirror_mode": {
    "name": "ipython",
    "version": 2
   },
   "file_extension": ".py",
   "mimetype": "text/x-python",
   "name": "python",
   "nbconvert_exporter": "python",
   "pygments_lexer": "ipython2",
   "version": "2.7.9"
  }
 },
 "nbformat": 4,
 "nbformat_minor": 0
}
